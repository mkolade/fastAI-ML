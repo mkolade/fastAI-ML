{
 "cells": [
  {
   "cell_type": "code",
   "execution_count": 2,
   "id": "eddb9597",
   "metadata": {},
   "outputs": [],
   "source": [
    "from fastbook import *"
   ]
  },
  {
   "cell_type": "code",
   "execution_count": 3,
   "id": "2882f8f0",
   "metadata": {},
   "outputs": [],
   "source": [
    "\n",
    "API_KEY = \"57b93ec1d812051ed0177a5b0d98e61526f1c2b70f9160dc35c9752df0145d29\""
   ]
  },
  {
   "cell_type": "markdown",
   "id": "1a980963",
   "metadata": {},
   "source": [
    "Generating bird image (using google's serpapi)"
   ]
  },
  {
   "cell_type": "code",
   "execution_count": 4,
   "id": "b4f726d4",
   "metadata": {},
   "outputs": [],
   "source": [
    "from serpapi import GoogleSearch\n",
    "\n",
    "def search_images_serpapi(term, max_images=5):\n",
    "    params = {\n",
    "        \"engine\": \"google_images\",\n",
    "        \"q\": term,\n",
    "        \"api_key\": {API_KEY}\n",
    "    }\n",
    "    search = GoogleSearch(params)\n",
    "    results = search.get_dict()\n",
    "    return [img['original'] for img in results.get(\"images_results\", [])[:max_images]]\n",
    "\n",
    "\n"
   ]
  },
  {
   "cell_type": "code",
   "execution_count": 9,
   "id": "86e2237f",
   "metadata": {},
   "outputs": [
    {
     "name": "stdout",
     "output_type": "stream",
     "text": [
      "https://images.unsplash.com/photo-1606567595334-d39972c85dbe?fm=jpg&q=60&w=3000&ixlib=rb-4.1.0&ixid=M3wxMjA3fDB8MHxzZWFyY2h8NHx8YmlyZHxlbnwwfHwwfHx8MA%3D%3D\n"
     ]
    }
   ],
   "source": [
    "myList = search_images_serpapi(\"bird photos\")\n",
    "print(myList[3])"
   ]
  },
  {
   "cell_type": "code",
   "execution_count": 6,
   "id": "985c43ac",
   "metadata": {},
   "outputs": [
    {
     "name": "stdout",
     "output_type": "stream",
     "text": [
      "{'account_id': '689ca680a8908726cb36dc2c', 'api_key': '57b93ec1d812051ed0177a5b0d98e61526f1c2b70f9160dc35c9752df0145d29', 'account_email': 'mohammedamoshood@gmail.com', 'account_status': 'Active', 'plan_id': 'free', 'plan_name': 'Free Plan', 'plan_monthly_price': 0.0, 'searches_per_month': 250, 'plan_searches_left': 243, 'extra_credits': 0, 'total_searches_left': 243, 'this_month_usage': 7, 'this_hour_searches': 0, 'last_hour_searches': 0, 'account_rate_limit_per_hour': 250}\n"
     ]
    }
   ],
   "source": [
    "import requests\n",
    "#requests.get(\"https://duckduckgo.com\").status_code\n",
    "\n",
    "##check number of searches left\n",
    "url = f\"https://serpapi.com/account?api_key={API_KEY}\"\n",
    "res = requests.get(url)\n",
    "data = res.json()\n",
    "print(data)  # See the actual response from SerpAPI\n"
   ]
  },
  {
   "cell_type": "markdown",
   "id": "32989961",
   "metadata": {},
   "source": [
    "Saving bird image as a project file. (using the Path() and download_url() functions)"
   ]
  },
  {
   "cell_type": "code",
   "execution_count": 10,
   "id": "e800cc0e",
   "metadata": {},
   "outputs": [],
   "source": [
    "dest = Path('bird0001.jpg')\n",
    "if not dest.exists() : download_url(myList[0], dest=dest, show_progress=False)"
   ]
  },
  {
   "cell_type": "code",
   "execution_count": null,
   "id": "d13ea040",
   "metadata": {},
   "outputs": [],
   "source": []
  }
 ],
 "metadata": {
  "kernelspec": {
   "display_name": ".venv (3.12.8)",
   "language": "python",
   "name": "python3"
  },
  "language_info": {
   "codemirror_mode": {
    "name": "ipython",
    "version": 3
   },
   "file_extension": ".py",
   "mimetype": "text/x-python",
   "name": "python",
   "nbconvert_exporter": "python",
   "pygments_lexer": "ipython3",
   "version": "3.12.8"
  }
 },
 "nbformat": 4,
 "nbformat_minor": 5
}
