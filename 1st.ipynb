{
 "cells": [
  {
   "cell_type": "code",
   "execution_count": 46,
   "id": "fd7c7473",
   "metadata": {},
   "outputs": [
    {
     "name": "stdout",
     "output_type": "stream",
     "text": [
      "3\n"
     ]
    }
   ],
   "source": [
    "a = 1+2\n",
    "print(a)\n"
   ]
  },
  {
   "cell_type": "code",
   "execution_count": 47,
   "id": "eddb9597",
   "metadata": {},
   "outputs": [],
   "source": [
    "from fastbook import *"
   ]
  },
  {
   "cell_type": "code",
   "execution_count": 48,
   "id": "2882f8f0",
   "metadata": {},
   "outputs": [],
   "source": [
    "\n",
    "API_KEY = \"57b93ec1d812051ed0177a5b0d98e61526f1c2b70f9160dc35c9752df0145d29\""
   ]
  },
  {
   "cell_type": "code",
   "execution_count": null,
   "id": "b4f726d4",
   "metadata": {},
   "outputs": [
    {
     "name": "stdout",
     "output_type": "stream",
     "text": [
      "['https://images.unsplash.com/photo-1486365227551-f3f90034a57c?fm=jpg&q=60&w=3000&ixlib=rb-4.1.0&ixid=M3wxMjA3fDB8MHxzZWFyY2h8Mnx8YmlyZHxlbnwwfHwwfHx8MA%3D%3D', 'https://www.pennington.com/-/media/Project/OneWeb/Pennington/Images/headers/secondary-category/About_WildBird-mobile.jpg?h=330&iar=0&w=480&hash=85A6611B4C76F416ED8CF1BE1FC2BA0E', 'https://cdn.shopify.com/s/files/1/0782/9346/7416/files/European_roller_480x480.png?v=1702633105', 'https://i0.wp.com/www.blog.catandturtle.net/wp-content/uploads/2013/04/201304129_copyrightJessYarnell.jpg?resize=500%2C333', 'https://media.istockphoto.com/id/183412466/photo/eastern-bluebirds-male-and-female.jpg?s=612x612&w=0&k=20&c=6_EQHnGedwdjM9QTUF2c1ce7cC3XtlxvMPpU5HAouhc=']\n"
     ]
    }
   ],
   "source": [
    "from serpapi import GoogleSearch\n",
    "\n",
    "def search_images_serpapi(term, max_images=5):\n",
    "    params = {\n",
    "        \"engine\": \"google_images\",\n",
    "        \"q\": term,\n",
    "        \"api_key\": {API_KEY}\n",
    "    }\n",
    "    search = GoogleSearch(params)\n",
    "    results = search.get_dict()\n",
    "    return [img['original'] for img in results.get(\"images_results\", [])[:max_images]]\n",
    "\n",
    "\n"
   ]
  },
  {
   "cell_type": "code",
   "execution_count": 51,
   "id": "86e2237f",
   "metadata": {},
   "outputs": [
    {
     "name": "stdout",
     "output_type": "stream",
     "text": [
      "https://images.unsplash.com/photo-1486365227551-f3f90034a57c?fm=jpg&q=60&w=3000&ixlib=rb-4.1.0&ixid=M3wxMjA3fDB8MHxzZWFyY2h8Mnx8YmlyZHxlbnwwfHwwfHx8MA%3D%3D\n"
     ]
    }
   ],
   "source": [
    "myList = search_images_serpapi(\"bird photos\")\n",
    "print(myList[0])"
   ]
  },
  {
   "cell_type": "code",
   "execution_count": 50,
   "id": "985c43ac",
   "metadata": {},
   "outputs": [
    {
     "name": "stdout",
     "output_type": "stream",
     "text": [
      "{'account_id': '689ca680a8908726cb36dc2c', 'api_key': '57b93ec1d812051ed0177a5b0d98e61526f1c2b70f9160dc35c9752df0145d29', 'account_email': 'mohammedamoshood@gmail.com', 'account_status': 'Active', 'plan_id': 'free', 'plan_name': 'Free Plan', 'plan_monthly_price': 0.0, 'searches_per_month': 250, 'plan_searches_left': 249, 'extra_credits': 0, 'total_searches_left': 249, 'this_month_usage': 1, 'this_hour_searches': 1, 'last_hour_searches': 0, 'account_rate_limit_per_hour': 250}\n"
     ]
    }
   ],
   "source": [
    "import requests\n",
    "#requests.get(\"https://duckduckgo.com\").status_code\n",
    "\n",
    "##check number of searches left\n",
    "url = f\"https://serpapi.com/account?api_key={API_KEY}\"\n",
    "res = requests.get(url)\n",
    "data = res.json()\n",
    "print(data)  # See the actual response from SerpAPI\n"
   ]
  },
  {
   "cell_type": "code",
   "execution_count": null,
   "id": "e800cc0e",
   "metadata": {},
   "outputs": [],
   "source": []
  },
  {
   "cell_type": "code",
   "execution_count": null,
   "id": "d13ea040",
   "metadata": {},
   "outputs": [],
   "source": []
  }
 ],
 "metadata": {
  "kernelspec": {
   "display_name": ".venv (3.12.8)",
   "language": "python",
   "name": "python3"
  },
  "language_info": {
   "codemirror_mode": {
    "name": "ipython",
    "version": 3
   },
   "file_extension": ".py",
   "mimetype": "text/x-python",
   "name": "python",
   "nbconvert_exporter": "python",
   "pygments_lexer": "ipython3",
   "version": "3.12.8"
  }
 },
 "nbformat": 4,
 "nbformat_minor": 5
}
